{
  "nbformat": 4,
  "nbformat_minor": 0,
  "metadata": {
    "colab": {
      "provenance": [],
      "authorship_tag": "ABX9TyMh0HfsMY8Mf9emisOUA7IT",
      "include_colab_link": true
    },
    "kernelspec": {
      "name": "python3",
      "display_name": "Python 3"
    },
    "language_info": {
      "name": "python"
    }
  },
  "cells": [
    {
      "cell_type": "markdown",
      "metadata": {
        "id": "view-in-github",
        "colab_type": "text"
      },
      "source": [
        "<a href=\"https://colab.research.google.com/github/THE-AAV/PyLearning-Journey/blob/main/PythonBasics.ipynb\" target=\"_parent\"><img src=\"https://colab.research.google.com/assets/colab-badge.svg\" alt=\"Open In Colab\"/></a>"
      ]
    },
    {
      "cell_type": "code",
      "execution_count": null,
      "metadata": {
        "colab": {
          "base_uri": "https://localhost:8080/"
        },
        "id": "6hGrqzOeVEWe",
        "outputId": "eef2d4d3-463d-4883-fa4f-7c8a69e0ba23"
      },
      "outputs": [
        {
          "output_type": "stream",
          "name": "stdout",
          "text": [
            "Hello World\n",
            "Hello Aav\n",
            "Welcome to world of python\n",
            "happy coding\n"
          ]
        }
      ],
      "source": [
        "# @title Hello World in Python\n",
        "name=\"AAV\"\n",
        "print(\"Hello World\")\n",
        "print(f\"Hello {name.title()}\")\n",
        "print(\"Welcome to world of python\")\n",
        "print(\"happy coding\")"
      ]
    },
    {
      "cell_type": "code",
      "execution_count": null,
      "metadata": {
        "colab": {
          "base_uri": "https://localhost:8080/"
        },
        "outputId": "e4e985c3-53d3-477b-ce36-31269fcb04ac",
        "id": "b6bhP_mNZCx7"
      },
      "outputs": [
        {
          "output_type": "stream",
          "name": "stdout",
          "text": [
            "Hello World\n",
            "Hello Vyas\n",
            "Welcome to world of python\n",
            "happy coding\n",
            "'Vyas',Your name has 4 letters\n"
          ]
        }
      ],
      "source": [
        "# @title Hello World in Pythoh with validation\n",
        "name = \"Vyas\" # @param {\"type\":\"string\"}\n",
        "print(\"Hello World\")\n",
        "print(f\"Hello {name.title()}\")\n",
        "print(\"Welcome to world of python\")\n",
        "print(\"happy coding\")\n",
        "count=len(name)\n",
        "if count<2:\n",
        "  print(\"This is not a name\")\n",
        "else:\n",
        "  print(f\"'{name.title()}',Your name has {count} letters\")"
      ]
    },
    {
      "cell_type": "code",
      "source": [
        "# @title SUM EXAMPLE\n",
        "x=float(input(\"Enter a number \"))\n",
        "y=float(input(\"Enter a number \"))\n",
        "z=float(input(\"Enter a number \"))\n",
        "sum=x+y+z\n",
        "print(\"The sum of numbers is\",sum)"
      ],
      "metadata": {
        "colab": {
          "base_uri": "https://localhost:8080/"
        },
        "id": "Z_LpUEQaZnLe",
        "outputId": "003942a0-4945-4786-c24e-73918b077282"
      },
      "execution_count": null,
      "outputs": [
        {
          "output_type": "stream",
          "name": "stdout",
          "text": [
            "Enter a number 12\n",
            "Enter a number 34\n",
            "Enter a number 56\n",
            "The sum of numbers is 102.0\n"
          ]
        }
      ]
    },
    {
      "cell_type": "code",
      "source": [
        "# @title Indentation\n",
        "print('1')\n",
        "print('2')\n",
        " #print('2')\n",
        "print('3')"
      ],
      "metadata": {
        "id": "jLN6lqa9dn6b",
        "colab": {
          "base_uri": "https://localhost:8080/"
        },
        "outputId": "97d41cb9-b6d4-4902-86e1-8324375f3fbb"
      },
      "execution_count": null,
      "outputs": [
        {
          "output_type": "stream",
          "name": "stdout",
          "text": [
            "1\n",
            "2\n",
            "3\n"
          ]
        }
      ]
    },
    {
      "cell_type": "code",
      "source": [
        "# @title Another Indentation Example\n",
        "a = 1 # @param {\"type\":\"slider\",\"min\":1,\"max\":5,\"step\":1}\n",
        "b = 3 # @param {\"type\":\"slider\",\"min\":1,\"max\":5,\"step\":1}\n",
        "if a==1:\n",
        "  print(\"a=1\")\n",
        "else :\n",
        "  print(f\"A={a}\")\n",
        "#NEW CODE\n",
        "if a<b:\n",
        "  print(\"a is less than b\")\n",
        "elif a==b:\n",
        "  print(\"a is equal to b\")\n",
        "else:\n",
        "  print(\"a is greater than b\")"
      ],
      "metadata": {
        "colab": {
          "base_uri": "https://localhost:8080/"
        },
        "id": "vf_1LR4HphqN",
        "outputId": "8848b5ee-5b41-4a35-fc09-214594e875d7"
      },
      "execution_count": null,
      "outputs": [
        {
          "output_type": "stream",
          "name": "stdout",
          "text": [
            "a=1\n",
            "a is less than b\n"
          ]
        }
      ]
    },
    {
      "cell_type": "code",
      "source": [
        "# @title Indentation for Loops\n",
        "n = 11 # @param {\"type\":\"slider\",\"min\":0,\"max\":100,\"step\":1}\n",
        "print(\"Start counting\")\n",
        "for i in range(1,n):\n",
        "  print(i)\n",
        "print(\"Done Counting\")\n"
      ],
      "metadata": {
        "colab": {
          "base_uri": "https://localhost:8080/"
        },
        "id": "IVX0sgI0rfS-",
        "outputId": "2fd4d84f-281b-412d-dc61-2203acce54bc"
      },
      "execution_count": null,
      "outputs": [
        {
          "output_type": "stream",
          "name": "stdout",
          "text": [
            "Start counting\n",
            "1\n",
            "2\n",
            "3\n",
            "4\n",
            "5\n",
            "6\n",
            "7\n",
            "8\n",
            "9\n",
            "10\n",
            "Done Counting\n"
          ]
        }
      ]
    },
    {
      "cell_type": "code",
      "source": [
        "# @title Print Function\n",
        "print(\"Hello\",5,1==2,1==1,5/2,5//2,2**10)\n",
        "print(\"Hello\",5,1==2,1==1,5/2,5//2,2**10,sep=\", \")\n",
        "for i in range(1,4):\n",
        " print(i,end=\" \")\n",
        "print(\"\\n\\n Hello Again\")\n",
        "print('/home','user','documents','my.py',sep='/')"
      ],
      "metadata": {
        "id": "Qoe_Z70Nuqjq",
        "colab": {
          "base_uri": "https://localhost:8080/"
        },
        "outputId": "fe69eefb-b2d3-48d1-dd9f-25b65b3a8ff5"
      },
      "execution_count": null,
      "outputs": [
        {
          "output_type": "stream",
          "name": "stdout",
          "text": [
            "Hello 5 False True 2.5 2 1024\n",
            "Hello, 5, False, True, 2.5, 2, 1024\n",
            "1 2 3 \n",
            "\n",
            " Hello Again\n",
            "/home/user/documents/my.py\n"
          ]
        }
      ]
    },
    {
      "cell_type": "code",
      "source": [
        "# @title Basic Data Types\n",
        "#float\n",
        "x=0.5\n",
        "print(type(x))\n",
        "#int\n",
        "print(type(5//2))\n",
        "#bool\n",
        "print(type(5==2))\n",
        "#str\n",
        "print(type(\"Hello\"))"
      ],
      "metadata": {
        "id": "EeS_pEJoHrTh",
        "colab": {
          "base_uri": "https://localhost:8080/"
        },
        "outputId": "b3c1b978-9e8b-4308-b159-96c1e78caaa2"
      },
      "execution_count": null,
      "outputs": [
        {
          "output_type": "stream",
          "name": "stdout",
          "text": [
            "<class 'float'>\n",
            "<class 'int'>\n",
            "<class 'bool'>\n",
            "<class 'str'>\n"
          ]
        }
      ]
    },
    {
      "cell_type": "code",
      "source": [
        "# @title Numerical Operators\n",
        "print(8+3)\n",
        "print(8/3)\n",
        "print(8//3)\n",
        "print(8-3)\n",
        "print(8*3)\n",
        "print(8**3)\n",
        "print(8%3)"
      ],
      "metadata": {
        "colab": {
          "base_uri": "https://localhost:8080/"
        },
        "id": "p_2fhDrO0RQA",
        "outputId": "b327af5c-f345-48e8-954b-53ca0de3b6b1"
      },
      "execution_count": null,
      "outputs": [
        {
          "output_type": "stream",
          "name": "stdout",
          "text": [
            "11\n",
            "2.6666666666666665\n",
            "2\n",
            "5\n",
            "24\n",
            "512\n",
            "2\n"
          ]
        }
      ]
    },
    {
      "cell_type": "code",
      "source": [
        "# @title Multiple Assignment\n",
        "a,b,c=1,2,3\n",
        "#output\n",
        "print(f\"a:{a}, b:{b} ,c:{c} \")\n",
        "print(f\"Swapping\")\n",
        "#swapping values\n",
        "a,b=b,a\n",
        "print(f\"a:{a}, b:{b}\")\n",
        "#tuples unpacking\n",
        "mytuple=(1,2,69)\n",
        "a,b,c=mytuple\n",
        "print(f\"a:{a}, b:{b}, c:{c}\")\n",
        "#unpacking list\n",
        "mylist=[1,2,69]\n",
        "a,b,c=mylist\n",
        "print(f\"a:{a}, b:{b}, c:{c}\")"
      ],
      "metadata": {
        "id": "qS-phOTm1ntz",
        "colab": {
          "base_uri": "https://localhost:8080/"
        },
        "outputId": "c9e72e7d-f92a-4f03-d4b6-f11773ef181d"
      },
      "execution_count": null,
      "outputs": [
        {
          "output_type": "stream",
          "name": "stdout",
          "text": [
            "a:1, b:2 ,c:3 \n",
            "Swapping\n",
            "a:2, b:1\n",
            "a:1, b:2, c:69\n",
            "a:1, b:2, c:69\n"
          ]
        }
      ]
    },
    {
      "cell_type": "code",
      "source": [
        "# @title Variable names\n",
        "# Snake Case: Words are separated by underscores and all lowercase\n",
        "snake_case_variable = \"This is a snake case variable\"\n",
        "\n",
        "# Camel Case: The first word is lowercase, and subsequent words have their first letter capitalized\n",
        "camelCaseVariable = \"This is a camel case variable\"\n",
        "\n",
        "# Variable Names: Python variables should be descriptive and follow the naming conventions\n",
        "user_name = \"Alice\"           # Snake case\n",
        "userAge = 25                  # Camel case\n",
        "total_items_in_cart = 10      # Snake case\n",
        "itemPrice = 19.99             # Camel case\n",
        "\n",
        "# Print the variables\n",
        "print(snake_case_variable)\n",
        "print(camelCaseVariable)\n",
        "print(user_name)\n",
        "print(userAge)\n",
        "print(total_items_in_cart)\n",
        "print(itemPrice)\n"
      ],
      "metadata": {
        "id": "adiwZ2PRTzTf",
        "colab": {
          "base_uri": "https://localhost:8080/"
        },
        "outputId": "8fd3d837-17e8-4d49-a781-f3afea9fe9b8"
      },
      "execution_count": null,
      "outputs": [
        {
          "output_type": "stream",
          "name": "stdout",
          "text": [
            "This is a snake case variable\n",
            "This is a camel case variable\n",
            "Alice\n",
            "25\n",
            "10\n",
            "19.99\n"
          ]
        }
      ]
    },
    {
      "cell_type": "code",
      "source": [
        "# @title Keywords\n",
        "import keyword\n",
        "for k in keyword.kwlist:\n",
        "  print(k)"
      ],
      "metadata": {
        "colab": {
          "base_uri": "https://localhost:8080/"
        },
        "id": "nDTbiGzoqKGj",
        "outputId": "0fdb3452-23ec-4f81-e393-b4461ce36a12"
      },
      "execution_count": null,
      "outputs": [
        {
          "output_type": "stream",
          "name": "stdout",
          "text": [
            "False\n",
            "None\n",
            "True\n",
            "and\n",
            "as\n",
            "assert\n",
            "async\n",
            "await\n",
            "break\n",
            "class\n",
            "continue\n",
            "def\n",
            "del\n",
            "elif\n",
            "else\n",
            "except\n",
            "finally\n",
            "for\n",
            "from\n",
            "global\n",
            "if\n",
            "import\n",
            "in\n",
            "is\n",
            "lambda\n",
            "nonlocal\n",
            "not\n",
            "or\n",
            "pass\n",
            "raise\n",
            "return\n",
            "try\n",
            "while\n",
            "with\n",
            "yield\n"
          ]
        }
      ]
    },
    {
      "cell_type": "code",
      "source": [
        "# @title Escape Sequences\n",
        "print(\"Hello\")\n",
        "print(\"\\tHello\")\n",
        "print(\"Hello\\b\\b\")\n",
        "print(\"Hello \\'World\\'\")\n",
        "print('Hello \"World\"')\n",
        "print(\"Hello\\nWorld\")\n",
        "print(\"This is slash \\\\\")\n",
        "print(\"unicode character \\u263A\")\n",
        "print(\"unicode character \\u21E8\")\n"
      ],
      "metadata": {
        "id": "9xOkH8Zqy7SI",
        "colab": {
          "base_uri": "https://localhost:8080/"
        },
        "outputId": "9c5e0397-ae8c-40ee-8aaf-e4d4f7d75837"
      },
      "execution_count": 3,
      "outputs": [
        {
          "output_type": "stream",
          "name": "stdout",
          "text": [
            "Hello\n",
            "\tHello\n",
            "Hello\b\b\n",
            "Hello 'World'\n",
            "Hello \"World\"\n",
            "Hello\n",
            "World\n",
            "This is slash \\\n",
            "unicode character ☺\n",
            "unicode character ⇨\n"
          ]
        }
      ]
    },
    {
      "cell_type": "code",
      "source": [],
      "metadata": {
        "id": "kSdm5A8XmeM3"
      },
      "execution_count": null,
      "outputs": []
    }
  ]
}